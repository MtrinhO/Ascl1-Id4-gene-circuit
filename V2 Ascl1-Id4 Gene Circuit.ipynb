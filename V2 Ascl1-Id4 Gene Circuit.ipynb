{
 "cells": [
  {
   "cell_type": "code",
   "execution_count": null,
   "metadata": {},
   "outputs": [],
   "source": [
    "\"\"\"MODEL 1 (DO NOT USE): Ascl1 expression determined by adding E47 and HUWE1 expression, \n",
    "lessening weight of 0.5, positive bias of 1.0\"\"\""
   ]
  },
  {
   "cell_type": "code",
   "execution_count": 5,
   "metadata": {},
   "outputs": [],
   "source": [
    "\"\"\"INPUTS: Beta values for expression of Id4, Huwe 1 \n",
    "OUTPUT: Beta value for Ascl1 expression and quiescence prediction\"\"\"\n",
    "\n",
    "def quiescense(beta_Id4=0.1, beta_Huwe1=0.4, lesser_weight=0.5, pos_bias=1.0):\n",
    "    #Calculates non_Inputted gene expressions E47 and Ascl1\n",
    "    beta_Huwe1 = lesser_weight*beta_Huwe1\n",
    "    beta_E47 = pos_bias - beta_Id4\n",
    "    beta_Ascl1 = beta_Huwe1 + beta_E47\n",
    "\n",
    "    #Calls decision function\n",
    "    verdict=decision(beta_Ascl1)\n",
    "    return beta_Ascl1,verdict\n",
    "\n",
    "#Classifies quiescence value as indicating an active, quiescent, or abnormally active stem cell\n",
    "def decision(beta_Ascl1):\n",
    "    if 0.5<=beta_Ascl1<0.8:\n",
    "        verdict=\"Active stem cell\"\n",
    "    elif beta_Ascl1<0.5:\n",
    "        verdict=\"Quiescent stem cell\"\n",
    "    elif beta_Ascl1>=0.8:\n",
    "        verdict = \"Abnormally active stem cell\"\n",
    "    return verdict"
   ]
  },
  {
   "cell_type": "code",
   "execution_count": null,
   "metadata": {},
   "outputs": [],
   "source": [
    "\"\"\"MODEL 2 (WORKING): Experiment with a lessening weight of 0.3. Ascl1 is correctly determined by subtracting effect of\n",
    "Huwe1 from effect of E47\"\"\""
   ]
  },
  {
   "cell_type": "code",
   "execution_count": 2,
   "metadata": {},
   "outputs": [],
   "source": [
    "\"\"\"INPUTS: Beta values for expression of Id4, Huwe 1 \n",
    "OUTPUT: Beta value for Ascl1 expression and quiescence prediction\"\"\"\n",
    "\n",
    "def quiescense(beta_Id4=0.0, beta_Huwe1=1.0, lesser_weight=0.3, pos_bias=0.99999):\n",
    "    #Calculates non_Inputted gene expressions E47 and Ascl1. E47 gene expression is not reliant on Huwe1\n",
    "    beta_Huwe1 = lesser_weight*beta_Huwe1\n",
    "    beta_E47 = pos_bias - beta_Id4\n",
    "    beta_Ascl1 = beta_E47 - beta_Huwe1\n",
    "\n",
    "    #Calls decision function\n",
    "    verdict=decision(beta_Ascl1)\n",
    "    return beta_Ascl1,verdict\n",
    "\n",
    "#Classifies quiescence value as indicating an active, quiescent, or abnormally active stem cell\n",
    "def decision(beta_Ascl1):\n",
    "    if 0.5<=beta_Ascl1<0.8:\n",
    "        verdict=\"Active stem cell\"\n",
    "    elif beta_Ascl1<0.5:\n",
    "        verdict=\"Quiescent stem cell\"\n",
    "    elif beta_Ascl1>=0.8:\n",
    "        verdict = \"Abnormally active stem cell\"\n",
    "    return verdict"
   ]
  },
  {
   "cell_type": "code",
   "execution_count": null,
   "metadata": {},
   "outputs": [],
   "source": [
    "'''MODEL3 (MOST FUNCTIONAL): Working gene circuit that classifies 0.4 as being the Ascl gene expression value \n",
    "needed for quiesence'''"
   ]
  },
  {
   "cell_type": "code",
   "execution_count": 1,
   "metadata": {},
   "outputs": [],
   "source": [
    "\"\"\"INPUTS: Beta values for expression of Id4, Huwe 1 \n",
    "OUTPUT: Beta value for Ascl1 expression and quiescence prediction\"\"\"\n",
    "\n",
    "def quiescense(beta_Id4=0.0, beta_Huwe1=1.0, lesser_weight=0.3, pos_bias=0.99999):\n",
    "    #Calculates non_Inputted gene expressions E47 and Ascl1. E47 gene expression is not reliant on Huwe1\n",
    "    beta_Huwe1 = lesser_weight*beta_Huwe1\n",
    "    beta_E47 = pos_bias - beta_Id4\n",
    "    beta_Ascl1 = beta_E47 - beta_Huwe1\n",
    "\n",
    "    #Calls decision function\n",
    "    verdict=decision(beta_Ascl1)\n",
    "    return beta_Ascl1,verdict\n",
    "\n",
    "#Classifies quiescence value as indicating an active, quiescent, or abnormally active stem cell\n",
    "def decision(beta_Ascl1):\n",
    "    if 0.4<=beta_Ascl1<0.8:\n",
    "        verdict=\"Active stem cell\"\n",
    "    elif beta_Ascl1<0.4:\n",
    "        verdict=\"Quiescent stem cell\"\n",
    "    elif beta_Ascl1>=0.8:\n",
    "        verdict = \"Abnormally active stem cell\"\n",
    "    return verdict"
   ]
  }
 ],
 "metadata": {
  "kernelspec": {
   "display_name": "Python 3",
   "language": "python",
   "name": "python3"
  },
  "language_info": {
   "codemirror_mode": {
    "name": "ipython",
    "version": 3
   },
   "file_extension": ".py",
   "mimetype": "text/x-python",
   "name": "python",
   "nbconvert_exporter": "python",
   "pygments_lexer": "ipython3",
   "version": "3.7.5"
  }
 },
 "nbformat": 4,
 "nbformat_minor": 2
}
