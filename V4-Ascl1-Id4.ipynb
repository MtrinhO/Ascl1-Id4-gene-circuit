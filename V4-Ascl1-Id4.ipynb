{
 "cells": [
  {
   "cell_type": "code",
   "execution_count": 269,
   "metadata": {},
   "outputs": [],
   "source": [
    "import numpy as np\n",
    "\n",
    "#INPUTS: Array of beta values with expression of Id4, Huwe1 respectively\n",
    "#OUTPUTS: Modified array of gene expressions + quiescense state\n",
    "def quiescense(Genearray, lesser_weight, pos_bias):\n",
    "    #Independant variables: Id4, Huwe1. Huwe1 effect dilluted by factor of 10\n",
    "    beta_Id4=Genearray[0]\n",
    "    beta_Huwe1=Genearray[1] * lesser_weight\n",
    "    #Calculates non_Inputted gene expressions E47 and Ascl1, and quiescence state\n",
    "    beta_E47 = pos_bias - beta_Id4\n",
    "    beta_Ascl1 = beta_E47 *beta_Huwe1\n",
    "    #Returns sample array with decisions made according to circuit\n",
    "    Modified_Genearray = []\n",
    "    Modified_Genearray.extend([beta_Id4, beta_Huwe1, beta_E47, beta_Ascl1])\n",
    "    return Modified_Genearray"
   ]
  },
  {
   "cell_type": "code",
   "execution_count": 303,
   "metadata": {},
   "outputs": [
    {
     "data": {
      "text/plain": [
       "[array([0.4759809 , 0.51176684, 0.5169432 , 0.13791847, 0.81205507,\n",
       "        0.75933883, 0.84894254, 0.62004546, 0.18593887, 0.94180594]),\n",
       " array([0.07338162, 0.04507785, 0.01715552, 0.00721893, 0.08609145,\n",
       "        0.05691923, 0.04351011, 0.02595893, 0.08541346, 0.05748583]),\n",
       " array([0.5240191 , 0.48823316, 0.4830568 , 0.86208153, 0.18794493,\n",
       "        0.24066117, 0.15105746, 0.37995454, 0.81406113, 0.05819406]),\n",
       " array([0.03845337, 0.0220085 , 0.00828709, 0.00622331, 0.01618045,\n",
       "        0.01369825, 0.00657253, 0.00986321, 0.06953178, 0.00334533])]"
      ]
     },
     "execution_count": 303,
     "metadata": {},
     "output_type": "execute_result"
    }
   ],
   "source": [
    "#Demo array input, output array\n",
    "\n",
    "quiescense(Genearray=np.random.rand(2,10), pos_bias=1, lesser_weight=0.1)"
   ]
  }
 ],
 "metadata": {
  "kernelspec": {
   "display_name": "Python 3",
   "language": "python",
   "name": "python3"
  },
  "language_info": {
   "codemirror_mode": {
    "name": "ipython",
    "version": 3
   },
   "file_extension": ".py",
   "mimetype": "text/x-python",
   "name": "python",
   "nbconvert_exporter": "python",
   "pygments_lexer": "ipython3",
   "version": "3.7.5"
  }
 },
 "nbformat": 4,
 "nbformat_minor": 2
}
