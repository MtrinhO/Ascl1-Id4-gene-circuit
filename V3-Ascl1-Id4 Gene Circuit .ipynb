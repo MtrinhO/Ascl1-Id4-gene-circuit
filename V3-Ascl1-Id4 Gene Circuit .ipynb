{
 "cells": [
  {
   "cell_type": "code",
   "execution_count": 116,
   "metadata": {},
   "outputs": [
    {
     "data": {
      "text/plain": [
       "(0.5833329076426392, 'Active stem cell')"
      ]
     },
     "execution_count": 116,
     "metadata": {},
     "output_type": "execute_result"
    }
   ],
   "source": [
    "#Demo array input \n",
    "import numpy as np\n",
    "Genearray=np.random.rand(2)\n",
    "\n",
    "#INPUTS: Array of beta values with expression of Id4, Huwe1 respectively\n",
    "def quiescense(Genearray, lesser_weight=0.1, pos_bias=0.999990):\n",
    "    #Independant variables: Id4, Huwe1. Huwe1 effect dilluted by factor of 10\n",
    "    beta_Id4=Genearray[0]\n",
    "    beta_Huwe1=Genearray[1]\n",
    "    beta_Huwe1 = lesser_weight*beta_Huwe1\n",
    "    #Calculates non_Inputted gene expressions E47 and Ascl1\n",
    "    beta_E47 = pos_bias - beta_Id4\n",
    "    beta_Ascl1 = beta_E47 - beta_Huwe1\n",
    "    #Outputs verdict on stem cell status\n",
    "    verdict=decision(beta_Ascl1)\n",
    "    return beta_Ascl1,verdict\n",
    "\n",
    "#Classifies quiescence value as indicating an active, quiescent, or abnormally active stem cell\n",
    "def decision(beta_Ascl1):\n",
    "    if 0.4<=beta_Ascl1<0.8:\n",
    "        verdict=\"Active stem cell\"\n",
    "    elif beta_Ascl1<0.4:\n",
    "        verdict=\"Quiescent stem cell\"\n",
    "    elif beta_Ascl1>=0.8:\n",
    "        verdict = \"Abnormally active stem cell\"\n",
    "    return verdict\n",
    "\n",
    "quiescense(Genearray, lesser_weight=0.1, pos_bias=0.999990)"
   ]
  },
  {
   "cell_type": "code",
   "execution_count": null,
   "metadata": {},
   "outputs": [],
   "source": []
  }
 ],
 "metadata": {
  "kernelspec": {
   "display_name": "Python 3",
   "language": "python",
   "name": "python3"
  },
  "language_info": {
   "codemirror_mode": {
    "name": "ipython",
    "version": 3
   },
   "file_extension": ".py",
   "mimetype": "text/x-python",
   "name": "python",
   "nbconvert_exporter": "python",
   "pygments_lexer": "ipython3",
   "version": "3.7.5"
  }
 },
 "nbformat": 4,
 "nbformat_minor": 2
}
